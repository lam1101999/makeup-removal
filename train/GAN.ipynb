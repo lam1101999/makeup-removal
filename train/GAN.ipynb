{
 "cells": [
  {
   "cell_type": "code",
   "execution_count": 18,
   "metadata": {},
   "outputs": [],
   "source": [
    "import torch\n",
    "import os\n",
    "import glob\n",
    "import numpy as np\n",
    "import torchvision\n",
    "import matplotlib.pyplot as plt\n",
    "from torch.utils.data import Dataset, DataLoader\n",
    "from torchvision import transforms\n",
    "from PIL import Image\n",
    "from typing import Any\n",
    "from torchsummary import summary\n",
    "\n"
   ]
  },
  {
   "cell_type": "markdown",
   "metadata": {},
   "source": [
    "# Customized Dataset"
   ]
  },
  {
   "cell_type": "code",
   "execution_count": 20,
   "metadata": {},
   "outputs": [],
   "source": [
    "class ImageDataset(Dataset):\n",
    "    def __init__(self, root_dir, transform=None) -> None:\n",
    "        super().__init__()\n",
    "        self.root_dir = root_dir\n",
    "        self.transform = transform\n",
    "        self.with_makeup_paths = glob.glob(os.path.join(root_dir,\"with\",\"*.jpg\"))\n",
    "        self.without_makeup_paths = glob.glob(os.path.join(root_dir,\"without\",\"*.jpg\"))\n",
    "    def __len__(self) -> int:\n",
    "        return len(self.with_makeup_paths)\n",
    "    def __getitem__(self, index) -> Any:\n",
    "        with_makeup_path = self.with_makeup_paths[index]\n",
    "        without_makeup_path = self.without_makeup_paths[index]\n",
    "        \n",
    "        with_makeup_image = Image.open(with_makeup_path)\n",
    "        without_makeup_image = Image.open(without_makeup_path)\n",
    "        \n",
    "        if self.transform:\n",
    "            with_makeup_image = self.transform(with_makeup_image)\n",
    "            without_makeup_image = self.transform(without_makeup_image)\n",
    "            \n",
    "        return [with_makeup_image, without_makeup_image]\n",
    "        "
   ]
  },
  {
   "cell_type": "markdown",
   "metadata": {},
   "source": [
    "# Model"
   ]
  },
  {
   "cell_type": "markdown",
   "metadata": {},
   "source": [
    "## Element of GAN"
   ]
  },
  {
   "cell_type": "code",
   "execution_count": 21,
   "metadata": {},
   "outputs": [
    {
     "ename": "AttributeError",
     "evalue": "module 'torch.nn' has no attribute 'module'",
     "output_type": "error",
     "traceback": [
      "\u001b[1;31m---------------------------------------------------------------------------\u001b[0m",
      "\u001b[1;31mAttributeError\u001b[0m                            Traceback (most recent call last)",
      "\u001b[1;32me:\\makeup-removal\\train\\GAN.ipynb Cell 6\u001b[0m line \u001b[0;36m1\n\u001b[0;32m     <a href='vscode-notebook-cell:/e%3A/makeup-removal/train/GAN.ipynb#W5sZmlsZQ%3D%3D?line=9'>10</a>\u001b[0m     \u001b[39mdef\u001b[39;00m \u001b[39mforward\u001b[39m(\u001b[39mself\u001b[39m, x) \u001b[39m-\u001b[39m\u001b[39m>\u001b[39m torch\u001b[39m.\u001b[39mTensor:\n\u001b[0;32m     <a href='vscode-notebook-cell:/e%3A/makeup-removal/train/GAN.ipynb#W5sZmlsZQ%3D%3D?line=10'>11</a>\u001b[0m         \u001b[39mreturn\u001b[39;00m \u001b[39mself\u001b[39m\u001b[39m.\u001b[39mblock(x)\n\u001b[1;32m---> <a href='vscode-notebook-cell:/e%3A/makeup-removal/train/GAN.ipynb#W5sZmlsZQ%3D%3D?line=12'>13</a>\u001b[0m \u001b[39mclass\u001b[39;00m \u001b[39mDeConvBlock\u001b[39;00m(torch\u001b[39m.\u001b[39;49mnn\u001b[39m.\u001b[39;49mmodule):\n\u001b[0;32m     <a href='vscode-notebook-cell:/e%3A/makeup-removal/train/GAN.ipynb#W5sZmlsZQ%3D%3D?line=13'>14</a>\u001b[0m     \u001b[39mdef\u001b[39;00m \u001b[39m__init__\u001b[39m(\u001b[39mself\u001b[39m, out_channels, kernel_size, stride\u001b[39m=\u001b[39m\u001b[39m1\u001b[39m, padding\u001b[39m=\u001b[39m\u001b[39m0\u001b[39m, \n\u001b[0;32m     <a href='vscode-notebook-cell:/e%3A/makeup-removal/train/GAN.ipynb#W5sZmlsZQ%3D%3D?line=14'>15</a>\u001b[0m                  output_padding\u001b[39m=\u001b[39m\u001b[39m0\u001b[39m, activation\u001b[39m=\u001b[39mtorch\u001b[39m.\u001b[39mnn\u001b[39m.\u001b[39mReLU) \u001b[39m-\u001b[39m\u001b[39m>\u001b[39m \u001b[39mNone\u001b[39;00m:\n\u001b[0;32m     <a href='vscode-notebook-cell:/e%3A/makeup-removal/train/GAN.ipynb#W5sZmlsZQ%3D%3D?line=15'>16</a>\u001b[0m         \u001b[39msuper\u001b[39m()\u001b[39m.\u001b[39m\u001b[39m__init__\u001b[39m()\n",
      "\u001b[1;31mAttributeError\u001b[0m: module 'torch.nn' has no attribute 'module'"
     ]
    }
   ],
   "source": [
    "class ConvBlock(torch.nn.Module):\n",
    "    def __init__(self, out_channels, kernel_size, stride=1, padding=0) -> None:\n",
    "        super().__init__()\n",
    "        self.block = torch.nn.Sequential(\n",
    "            torch.nn.LazyConv2d(out_channels, kernel_size=kernel_size, stride=stride,\n",
    "                            padding=padding),\n",
    "            torch.nn.BatchNorm2d(out_channels),\n",
    "            torch.nn.ReLU(),\n",
    "        )\n",
    "    def forward(self, x) -> torch.Tensor:\n",
    "        return self.block(x)\n",
    "\n",
    "class DeConvBlock(torch.nn.module):\n",
    "    def __init__(self, out_channels, kernel_size, stride=1, padding=0, \n",
    "                 output_padding=0, activation=torch.nn.ReLU) -> None:\n",
    "        super().__init__()\n",
    "        self.block = torch.nn.Sequential(\n",
    "            torch.nn.ConvTranspose2d(out_channels, kernel_size=kernel_size, \n",
    "                                     stride=stride, padding=padding, output_padding=output_padding),\n",
    "            torch.nn.BatchNorm2d(out_channels, inplace=True),\n",
    "            activation()\n",
    "        )\n",
    "    def forward(self, x) -> torch.Tensor:\n",
    "        return self.block(x)\n",
    "    \n",
    "class ResidualBlock(torch.nn.Module):\n",
    "    def __init__(self, output_channels, kernel_size, stride=1, padding=0, activation=torch.nn.ReLU):\n",
    "        super().__init__()\n",
    "        self.block = torch.nn.Sequential(\n",
    "            torch.nn.LazyConv2d(output_channels, kernel_size, stride, padding),\n",
    "            torch.nn.ReflectionPad2d(1),\n",
    "            torch.nn.BatchNorm2d(output_channels),\n",
    "            activation(),\n",
    "            torch.nn.LazyConv2d(output_channels, kernel_size, stride, padding),\n",
    "            torch.ReflectionPad2d(1),\n",
    "            torch.nn.BatchNorm2d(output_channels)\n",
    "        )\n",
    "    def forward(self, input_tensor) -> torch.Tensor:\n",
    "        x = self.block(x),\n",
    "        x = x + input_tensor\n",
    "        return x\n",
    "def replace_layers(model):\n",
    "    for n, module in model.named_children():\n",
    "        if len(list(module.children())) > 0:\n",
    "            ## compound module, go inside it\n",
    "            replace_layers(module)\n",
    "        if isinstance(module, torch.nn.MaxPool2d):\n",
    "            setattr(model, n, torch.nn.Conv2d)\n",
    "        \n",
    "class Generator(torch.nn.Module):\n",
    "    def __init__(self,input_channels=3, output_channels=3, filters=64, n_blocks= 10) -> None:\n",
    "        super().__init__()\n",
    "        down_scale=[torch.nn.ReflectionPad2d(3),\n",
    "            ConvBlock(output_channels=filters, kernel_size=7, activation=torch.nn.LeakyReLU),\n",
    "            ConvBlock(out_channels=filters*2, kernel_size=3, stride=2, activation=torch.nn.LeakyReLU),\n",
    "            ConvBlock(out_channels=filters*4, kernel_size=3, stride=2, activation=torch.nn.LeakyReLU)]\n",
    "        for i in range(n_blocks):\n",
    "            down_scale.append(ResidualBlock(output_channels=filters*4, kernel_size=3,activation=torch.nn.LeakyReLU()))\n",
    "        \n",
    "        up_scale = [\n",
    "            DeConvBlock(out_channels=filters*2, kernel_size=3, stride=2, padding=1, output_padding=1,activation=torch.nn.LeakyReLU),\n",
    "            DeConvBlock(out_channels=filters, kernel_size=3, stride=2,padding=1, output_padding=1, activation=torch.nn.LeakyReLU),\n",
    "            torch.nn.ReflectionPad2d(3),\n",
    "            torch.nn.LazyConv2d(out_channels=output_channels, kernel_size=7, stride=1,padding=0, activation=torch.nn.Tanh)\n",
    "        ]\n",
    "            \n",
    "        self.down_scale = torch.nn.Sequential(*down_scale)\n",
    "        self.up_scale = torch.nn.Sequential(*up_scale)\n",
    "\n",
    "    def forward(self, x)-> torch.Tensor:\n",
    "        latent_vector = self.down_scale(x)\n",
    "        fake_image = self.up_scale(latent_vector)\n",
    "        return fake_image\n",
    "\n",
    "class Discriminator(torch.nn.Module):\n",
    "    def __init__(self, input_channels=3, filters=64) -> None:\n",
    "        super().__init__()\n",
    "        layers = [\n",
    "            torch.nn.LazyConv2d(out_channels=filters, kernel_size=4, stride=2, padding=1),\n",
    "            torch.nn.LeakyReLU(),\n",
    "            ConvBlock(out_channels=filters*2, kernel_size=4, stride=2, padding=1, activation=torch.nn.LeakyReLU),\n",
    "            ConvBlock(out_channels=filters*4, kernel_size=4, stride=2, padding=1, activation=torch.nn.LeakyReLU),\n",
    "            ConvBlock(out_channels=filters*8, kernel_size=4, stride=1, padding=1, activation=torch.nn.LeakyReLU),\n",
    "        ]\n",
    "        # Output layers\n",
    "        layers.append(torch.nn.LazyConv2d(output_channels=1, kernel_size=4, stride=1, padding=1))\n",
    "        self.model = torch.nn.Sequential(*layers)\n",
    "    def forward(self, x)-> torch.Tensor:\n",
    "        return self.model(x)"
   ]
  },
  {
   "cell_type": "code",
   "execution_count": 19,
   "metadata": {},
   "outputs": [
    {
     "ename": "TypeError",
     "evalue": "ConvTranspose2d.__init__() missing 3 required positional arguments: 'in_channels', 'out_channels', and 'kernel_size'",
     "output_type": "error",
     "traceback": [
      "\u001b[1;31m---------------------------------------------------------------------------\u001b[0m",
      "\u001b[1;31mTypeError\u001b[0m                                 Traceback (most recent call last)",
      "\u001b[1;32me:\\makeup-removal\\train\\GAN.ipynb Cell 7\u001b[0m line \u001b[0;36m2\n\u001b[0;32m      <a href='vscode-notebook-cell:/e%3A/makeup-removal/train/GAN.ipynb#X21sZmlsZQ%3D%3D?line=0'>1</a>\u001b[0m sample \u001b[39m=\u001b[39m torch\u001b[39m.\u001b[39mrandn(\u001b[39m1\u001b[39m,\u001b[39m3\u001b[39m,\u001b[39m96\u001b[39m,\u001b[39m96\u001b[39m)\n\u001b[1;32m----> <a href='vscode-notebook-cell:/e%3A/makeup-removal/train/GAN.ipynb#X21sZmlsZQ%3D%3D?line=1'>2</a>\u001b[0m gen \u001b[39m=\u001b[39m Generator()\n\u001b[0;32m      <a href='vscode-notebook-cell:/e%3A/makeup-removal/train/GAN.ipynb#X21sZmlsZQ%3D%3D?line=3'>4</a>\u001b[0m summary(gen,(\u001b[39m3\u001b[39m,\u001b[39m96\u001b[39m,\u001b[39m96\u001b[39m))\n",
      "\u001b[1;32me:\\makeup-removal\\train\\GAN.ipynb Cell 7\u001b[0m line \u001b[0;36m2\n\u001b[0;32m     <a href='vscode-notebook-cell:/e%3A/makeup-removal/train/GAN.ipynb#X21sZmlsZQ%3D%3D?line=22'>23</a>\u001b[0m \u001b[39m# In GAN we dont need Pooling layer\u001b[39;00m\n\u001b[0;32m     <a href='vscode-notebook-cell:/e%3A/makeup-removal/train/GAN.ipynb#X21sZmlsZQ%3D%3D?line=23'>24</a>\u001b[0m replace_layers(\u001b[39mself\u001b[39m\u001b[39m.\u001b[39mdown_scale,(torch\u001b[39m.\u001b[39mnn\u001b[39m.\u001b[39mMaxPool2d, torch\u001b[39m.\u001b[39mnn\u001b[39m.\u001b[39mAdaptiveAvgPool2d), torch\u001b[39m.\u001b[39mnn\u001b[39m.\u001b[39mIdentity())\n\u001b[1;32m---> <a href='vscode-notebook-cell:/e%3A/makeup-removal/train/GAN.ipynb#X21sZmlsZQ%3D%3D?line=24'>25</a>\u001b[0m \u001b[39mself\u001b[39m\u001b[39m.\u001b[39mup_scale \u001b[39m=\u001b[39m UpScale()\n",
      "\u001b[1;32me:\\makeup-removal\\train\\GAN.ipynb Cell 7\u001b[0m line \u001b[0;36m1\n\u001b[0;32m     <a href='vscode-notebook-cell:/e%3A/makeup-removal/train/GAN.ipynb#X21sZmlsZQ%3D%3D?line=10'>11</a>\u001b[0m \u001b[39msuper\u001b[39m()\u001b[39m.\u001b[39m\u001b[39m__init__\u001b[39m()\n\u001b[0;32m     <a href='vscode-notebook-cell:/e%3A/makeup-removal/train/GAN.ipynb#X21sZmlsZQ%3D%3D?line=11'>12</a>\u001b[0m \u001b[39m# Transposed convolutional layers\u001b[39;00m\n\u001b[0;32m     <a href='vscode-notebook-cell:/e%3A/makeup-removal/train/GAN.ipynb#X21sZmlsZQ%3D%3D?line=12'>13</a>\u001b[0m \u001b[39mself\u001b[39m\u001b[39m.\u001b[39mmain \u001b[39m=\u001b[39m torch\u001b[39m.\u001b[39mnn\u001b[39m.\u001b[39mSequential(\n\u001b[1;32m---> <a href='vscode-notebook-cell:/e%3A/makeup-removal/train/GAN.ipynb#X21sZmlsZQ%3D%3D?line=13'>14</a>\u001b[0m torch\u001b[39m.\u001b[39;49mnn\u001b[39m.\u001b[39;49mConvTranspose2d(),\n\u001b[0;32m     <a href='vscode-notebook-cell:/e%3A/makeup-removal/train/GAN.ipynb#X21sZmlsZQ%3D%3D?line=14'>15</a>\u001b[0m torch\u001b[39m.\u001b[39mnn\u001b[39m.\u001b[39mConvTranspose2d()\n\u001b[0;32m     <a href='vscode-notebook-cell:/e%3A/makeup-removal/train/GAN.ipynb#X21sZmlsZQ%3D%3D?line=15'>16</a>\u001b[0m )\n",
      "\u001b[1;31mTypeError\u001b[0m: ConvTranspose2d.__init__() missing 3 required positional arguments: 'in_channels', 'out_channels', and 'kernel_size'"
     ]
    }
   ],
   "source": [
    "sample = torch.randn(1,3,96,96)\n",
    "gen = Generator()\n",
    "\n",
    "summary(gen,(3,96,96))"
   ]
  },
  {
   "cell_type": "code",
   "execution_count": null,
   "metadata": {},
   "outputs": [],
   "source": []
  },
  {
   "cell_type": "code",
   "execution_count": 7,
   "metadata": {},
   "outputs": [
    {
     "ename": "TypeError",
     "evalue": "ConvTranspose2d.__init__() missing 3 required positional arguments: 'in_channels', 'out_channels', and 'kernel_size'",
     "output_type": "error",
     "traceback": [
      "\u001b[1;31m---------------------------------------------------------------------------\u001b[0m",
      "\u001b[1;31mTypeError\u001b[0m                                 Traceback (most recent call last)",
      "\u001b[1;32me:\\makeup-removal\\train\\GAN.ipynb Cell 10\u001b[0m line \u001b[0;36m1\n\u001b[1;32m----> <a href='vscode-notebook-cell:/e%3A/makeup-removal/train/GAN.ipynb#X11sZmlsZQ%3D%3D?line=0'>1</a>\u001b[0m generator \u001b[39m=\u001b[39m Generator()\n\u001b[0;32m      <a href='vscode-notebook-cell:/e%3A/makeup-removal/train/GAN.ipynb#X11sZmlsZQ%3D%3D?line=2'>3</a>\u001b[0m replace_layers(generator,(torch\u001b[39m.\u001b[39mnn\u001b[39m.\u001b[39mMaxPool2d, torch\u001b[39m.\u001b[39mnn\u001b[39m.\u001b[39mAdaptiveAvgPool2d), torch\u001b[39m.\u001b[39mnn\u001b[39m.\u001b[39mIdentity())\n\u001b[0;32m      <a href='vscode-notebook-cell:/e%3A/makeup-removal/train/GAN.ipynb#X11sZmlsZQ%3D%3D?line=3'>4</a>\u001b[0m \u001b[39mprint\u001b[39m(generator)\n",
      "\u001b[1;32me:\\makeup-removal\\train\\GAN.ipynb Cell 10\u001b[0m line \u001b[0;36m2\n\u001b[0;32m     <a href='vscode-notebook-cell:/e%3A/makeup-removal/train/GAN.ipynb#X11sZmlsZQ%3D%3D?line=22'>23</a>\u001b[0m \u001b[39m# In GAN we dont need Pooling layer\u001b[39;00m\n\u001b[0;32m     <a href='vscode-notebook-cell:/e%3A/makeup-removal/train/GAN.ipynb#X11sZmlsZQ%3D%3D?line=23'>24</a>\u001b[0m replace_layers(\u001b[39mself\u001b[39m\u001b[39m.\u001b[39mdown_scale,(torch\u001b[39m.\u001b[39mnn\u001b[39m.\u001b[39mMaxPool2d, torch\u001b[39m.\u001b[39mnn\u001b[39m.\u001b[39mAdaptiveAvgPool2d), torch\u001b[39m.\u001b[39mnn\u001b[39m.\u001b[39mIdentity())\n\u001b[1;32m---> <a href='vscode-notebook-cell:/e%3A/makeup-removal/train/GAN.ipynb#X11sZmlsZQ%3D%3D?line=24'>25</a>\u001b[0m \u001b[39mself\u001b[39m\u001b[39m.\u001b[39mup_scale \u001b[39m=\u001b[39m UpScale()\n",
      "\u001b[1;32me:\\makeup-removal\\train\\GAN.ipynb Cell 10\u001b[0m line \u001b[0;36m1\n\u001b[0;32m     <a href='vscode-notebook-cell:/e%3A/makeup-removal/train/GAN.ipynb#X11sZmlsZQ%3D%3D?line=10'>11</a>\u001b[0m \u001b[39msuper\u001b[39m()\u001b[39m.\u001b[39m\u001b[39m__init__\u001b[39m()\n\u001b[0;32m     <a href='vscode-notebook-cell:/e%3A/makeup-removal/train/GAN.ipynb#X11sZmlsZQ%3D%3D?line=11'>12</a>\u001b[0m \u001b[39m# Transposed convolutional layers\u001b[39;00m\n\u001b[0;32m     <a href='vscode-notebook-cell:/e%3A/makeup-removal/train/GAN.ipynb#X11sZmlsZQ%3D%3D?line=12'>13</a>\u001b[0m \u001b[39mself\u001b[39m\u001b[39m.\u001b[39mmain \u001b[39m=\u001b[39m torch\u001b[39m.\u001b[39mnn\u001b[39m.\u001b[39mSequential(\n\u001b[1;32m---> <a href='vscode-notebook-cell:/e%3A/makeup-removal/train/GAN.ipynb#X11sZmlsZQ%3D%3D?line=13'>14</a>\u001b[0m torch\u001b[39m.\u001b[39;49mnn\u001b[39m.\u001b[39;49mConvTranspose2d(),\n\u001b[0;32m     <a href='vscode-notebook-cell:/e%3A/makeup-removal/train/GAN.ipynb#X11sZmlsZQ%3D%3D?line=14'>15</a>\u001b[0m torch\u001b[39m.\u001b[39mnn\u001b[39m.\u001b[39mConvTranspose2d()\n\u001b[0;32m     <a href='vscode-notebook-cell:/e%3A/makeup-removal/train/GAN.ipynb#X11sZmlsZQ%3D%3D?line=15'>16</a>\u001b[0m )\n",
      "\u001b[1;31mTypeError\u001b[0m: ConvTranspose2d.__init__() missing 3 required positional arguments: 'in_channels', 'out_channels', and 'kernel_size'"
     ]
    }
   ],
   "source": [
    "generator = Generator()\n",
    "\n",
    "replace_layers(generator,(torch.nn.MaxPool2d, torch.nn.AdaptiveAvgPool2d), torch.nn.Identity())\n",
    "print(generator)\n"
   ]
  },
  {
   "cell_type": "code",
   "execution_count": null,
   "metadata": {},
   "outputs": [],
   "source": []
  },
  {
   "cell_type": "markdown",
   "metadata": {},
   "source": [
    "# Customized Loss"
   ]
  },
  {
   "cell_type": "code",
   "execution_count": null,
   "metadata": {},
   "outputs": [],
   "source": []
  },
  {
   "cell_type": "markdown",
   "metadata": {},
   "source": [
    "# Train"
   ]
  },
  {
   "cell_type": "code",
   "execution_count": null,
   "metadata": {},
   "outputs": [
    {
     "ename": "NameError",
     "evalue": "name 'os' is not defined",
     "output_type": "error",
     "traceback": [
      "\u001b[1;31m---------------------------------------------------------------------------\u001b[0m",
      "\u001b[1;31mNameError\u001b[0m                                 Traceback (most recent call last)",
      "\u001b[1;32me:\\makeup-removal\\train\\GAN.ipynb Cell 9\u001b[0m line \u001b[0;36m1\n\u001b[1;32m----> <a href='vscode-notebook-cell:/e%3A/makeup-removal/train/GAN.ipynb#X11sZmlsZQ%3D%3D?line=0'>1</a>\u001b[0m root_dir \u001b[39m=\u001b[39m os\u001b[39m.\u001b[39mpath\u001b[39m.\u001b[39mjoin(os\u001b[39m.\u001b[39mgetcwd(), \u001b[39m\"\u001b[39m\u001b[39mdataset\u001b[39m\u001b[39m\"\u001b[39m,)\n\u001b[0;32m      <a href='vscode-notebook-cell:/e%3A/makeup-removal/train/GAN.ipynb#X11sZmlsZQ%3D%3D?line=1'>2</a>\u001b[0m transform \u001b[39m=\u001b[39m transforms\u001b[39m.\u001b[39mCompose([\n\u001b[0;32m      <a href='vscode-notebook-cell:/e%3A/makeup-removal/train/GAN.ipynb#X11sZmlsZQ%3D%3D?line=2'>3</a>\u001b[0m     transforms\u001b[39m.\u001b[39mResize([\u001b[39m96\u001b[39m,\u001b[39m96\u001b[39m]),\n\u001b[0;32m      <a href='vscode-notebook-cell:/e%3A/makeup-removal/train/GAN.ipynb#X11sZmlsZQ%3D%3D?line=3'>4</a>\u001b[0m     transforms\u001b[39m.\u001b[39mToTensor(),\n\u001b[0;32m      <a href='vscode-notebook-cell:/e%3A/makeup-removal/train/GAN.ipynb#X11sZmlsZQ%3D%3D?line=4'>5</a>\u001b[0m     \u001b[39m# transforms.Normalize([0.5,0.5,0.5],[0.5,0.5,0.5])\u001b[39;00m\n\u001b[0;32m      <a href='vscode-notebook-cell:/e%3A/makeup-removal/train/GAN.ipynb#X11sZmlsZQ%3D%3D?line=5'>6</a>\u001b[0m ])\n\u001b[0;32m      <a href='vscode-notebook-cell:/e%3A/makeup-removal/train/GAN.ipynb#X11sZmlsZQ%3D%3D?line=7'>8</a>\u001b[0m dataset \u001b[39m=\u001b[39m ImageDataset(root_dir, transform)\n",
      "\u001b[1;31mNameError\u001b[0m: name 'os' is not defined"
     ]
    }
   ],
   "source": [
    "root_dir = os.path.join(os.getcwd(), \"dataset\",\"gan_makeup_data_96\")\n",
    "transform = transforms.Compose([\n",
    "    transforms.Resize([96,96]),\n",
    "    transforms.ToTensor(),\n",
    "    # transforms.Normalize([0.5,0.5,0.5],[0.5,0.5,0.5])\n",
    "])\n",
    "\n",
    "dataset = ImageDataset(root_dir, transform)\n",
    "fig, axes = plt.subplots(10, 2, figsize=(10, 20))\n",
    "for i in range(10):\n",
    "    with_image = transforms.ToPILImage()(dataset[i][0])\n",
    "    without_image = transforms.ToPILImage()(dataset[i][1])\n",
    "    axes[i,0].imshow(with_image)\n",
    "    axes[i,0].axis(\"off\")\n",
    "    axes[i,1].imshow(without_image)\n",
    "    axes[i,1].axis(\"off\")\n",
    "plt.tight_layout()    \n",
    "plt.show()"
   ]
  },
  {
   "cell_type": "code",
   "execution_count": null,
   "metadata": {},
   "outputs": [],
   "source": []
  }
 ],
 "metadata": {
  "kernelspec": {
   "display_name": "python_pytorch",
   "language": "python",
   "name": "python3"
  },
  "language_info": {
   "codemirror_mode": {
    "name": "ipython",
    "version": 3
   },
   "file_extension": ".py",
   "mimetype": "text/x-python",
   "name": "python",
   "nbconvert_exporter": "python",
   "pygments_lexer": "ipython3",
   "version": "3.11.3"
  },
  "orig_nbformat": 4
 },
 "nbformat": 4,
 "nbformat_minor": 2
}
