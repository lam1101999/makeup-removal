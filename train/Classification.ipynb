{
 "cells": [
  {
   "cell_type": "markdown",
   "metadata": {},
   "source": [
    "# Import library"
   ]
  },
  {
   "cell_type": "code",
   "execution_count": 12,
   "metadata": {},
   "outputs": [],
   "source": [
    "import torch\n",
    "import os\n",
    "import glob\n",
    "import numpy as np\n",
    "import matplotlib.pyplot as plt\n",
    "import random\n",
    "import torchvision\n",
    "from typing import Any\n",
    "from torch.utils.data import Dataset, DataLoader, random_split\n",
    "from torch.utils.tensorboard import SummaryWriter\n",
    "from PIL import Image\n",
    "from sklearn.metrics import accuracy_score\n",
    "\n"
   ]
  },
  {
   "cell_type": "markdown",
   "metadata": {},
   "source": [
    "# Setup device and tensorboard"
   ]
  },
  {
   "cell_type": "code",
   "execution_count": 13,
   "metadata": {},
   "outputs": [
    {
     "data": {
      "text/plain": [
       "<torch._C.Generator at 0x24bb72a5f90>"
      ]
     },
     "execution_count": 13,
     "metadata": {},
     "output_type": "execute_result"
    }
   ],
   "source": [
    "device = torch.device(\"cuda:0\" if torch.cuda.is_available() else \"cpu\") \n",
    "writer = SummaryWriter(\"logs_classification\")\n",
    "torch.manual_seed(42)"
   ]
  },
  {
   "cell_type": "markdown",
   "metadata": {},
   "source": [
    "# Customized Dataset"
   ]
  },
  {
   "cell_type": "code",
   "execution_count": 14,
   "metadata": {},
   "outputs": [],
   "source": [
    "class ImageDataset(Dataset):\n",
    "    def __init__(self, root_dir, transform=None) -> None:\n",
    "        super().__init__()\n",
    "        self.root_dir = root_dir\n",
    "        self.transform = transform\n",
    "        \n",
    "        self.image_paths =[]\n",
    "        self.image_paths.extend(glob.glob(os.path.join(root_dir,\"with\",\"*.jpg\")))\n",
    "        self.image_paths.extend(glob.glob(os.path.join(root_dir,\"without\",\"*.jpg\")))\n",
    "        random.shuffle(self.image_paths)\n",
    "    def __len__(self) -> int:\n",
    "        return len(self.image_paths)\n",
    "    def __getitem__(self, index) -> Any:\n",
    "        image_path = self.image_paths[index]\n",
    "        \n",
    "        label = 1 if image_path.split(os.sep)[-2] == \"with\" else 0\n",
    "        image = Image.open(image_path).convert(\"RGB\")\n",
    "        if self.transform:\n",
    "            image = self.transform(image)\n",
    "            \n",
    "        return [image, label]\n",
    "        "
   ]
  },
  {
   "cell_type": "markdown",
   "metadata": {},
   "source": [
    "# Train one epoch"
   ]
  },
  {
   "cell_type": "code",
   "execution_count": 15,
   "metadata": {},
   "outputs": [],
   "source": [
    "def train_model(model, loss_function, optimizer, train_loader, epoch=1):\n",
    "    model.train()\n",
    "    running_loss = 0.0\n",
    "    total_samples = 0\n",
    "    y_true = []\n",
    "    y_pred = []\n",
    "    for data in train_loader:     \n",
    "        images, labels = data\n",
    "        images = images.to(device)\n",
    "        labels = labels.to(device)\n",
    "        # Clear gradient\n",
    "        optimizer.zero_grad()\n",
    "        # Calculate logits\n",
    "        outputs = model(images)\n",
    "        # Calculate loss\n",
    "        loss = loss_function(outputs, labels)\n",
    "        # Calculate gradient from loss\n",
    "        loss.backward()\n",
    "        # Update weight\n",
    "        optimizer.step()\n",
    "        \n",
    "\n",
    "        # Calculate loss\n",
    "        running_loss += loss.item() * images.size(0)\n",
    "        # Calculate total sample in data_loader\n",
    "        total_samples += images.size(0)\n",
    "        # Calculte y_predict for evaluation\n",
    "        predicted = torch.argmax(outputs, dim=1)\n",
    "        y_true.extend(labels.cpu().numpy())\n",
    "        y_pred.extend(predicted.detach().cpu().numpy())\n",
    "    writer.add_scalar(\"train/loss\", running_loss/total_samples, epoch)\n",
    "    writer.add_scalar(\"train/accuracy\", accuracy_score(y_true, y_pred), epoch)\n",
    "    return running_loss/total_samples"
   ]
  },
  {
   "cell_type": "markdown",
   "metadata": {},
   "source": [
    "# Eval model\n",
    "\n"
   ]
  },
  {
   "cell_type": "code",
   "execution_count": 16,
   "metadata": {},
   "outputs": [],
   "source": [
    "def eval_model(model, loss_function, test_dataloader, epoch):\n",
    "    model.eval()\n",
    "    total_samples = 0\n",
    "    total_loss = 0\n",
    "    y_true = []\n",
    "    y_pred = []\n",
    "    with torch.no_grad():\n",
    "        for images, labels in test_dataloader:\n",
    "            images = images.to(device)\n",
    "            labels = labels.to(device)\n",
    "\n",
    "            # Calculate logits\n",
    "            outputs = model(images)\n",
    "            \n",
    "            # Calculate loss of outputs and y_true\n",
    "            loss = loss_function(outputs, labels)\n",
    "            total_loss += loss.item() * images.size(0)\n",
    "            # Calculate total sample\n",
    "            total_samples += images.size(0)\n",
    "            \n",
    "            # Calculte y_predict for evaluation\n",
    "            predicted = torch.argmax(outputs, dim=1)\n",
    "            y_true.extend(labels.cpu().numpy())\n",
    "            y_pred.extend(predicted.detach().cpu().numpy())\n",
    "    writer.add_scalar(\"test/loss\", total_loss/total_samples, epoch)\n",
    "    writer.add_scalar(\"test/accuracy\", accuracy_score(y_true, y_pred), epoch)\n",
    "    return total_loss/total_samples"
   ]
  },
  {
   "cell_type": "markdown",
   "metadata": {},
   "source": [
    "# Model"
   ]
  },
  {
   "cell_type": "code",
   "execution_count": 17,
   "metadata": {},
   "outputs": [
    {
     "name": "stdout",
     "output_type": "stream",
     "text": [
      "cuda:0\n"
     ]
    }
   ],
   "source": [
    "model = torchvision.models.resnet34(num_classes=2)\n",
    "model = model.to(device)\n",
    "print(device)"
   ]
  },
  {
   "cell_type": "markdown",
   "metadata": {},
   "source": [
    "# Optimizer\n"
   ]
  },
  {
   "cell_type": "code",
   "execution_count": 18,
   "metadata": {},
   "outputs": [],
   "source": [
    "optimizer = torch.optim.Adam(model.parameters(), lr=0.001)"
   ]
  },
  {
   "cell_type": "markdown",
   "metadata": {},
   "source": [
    "# Loss function"
   ]
  },
  {
   "cell_type": "code",
   "execution_count": 19,
   "metadata": {},
   "outputs": [],
   "source": [
    "loss_function = torch.nn.CrossEntropyLoss()"
   ]
  },
  {
   "cell_type": "markdown",
   "metadata": {},
   "source": [
    "# Train"
   ]
  },
  {
   "cell_type": "code",
   "execution_count": 20,
   "metadata": {},
   "outputs": [
    {
     "name": "stdout",
     "output_type": "stream",
     "text": [
      "epoch 0: train_loss 0.8193305544802146, test_loss 1.022890947930824\n",
      "epoch 1: train_loss 0.6989265765115231, test_loss 0.6897348940097792\n",
      "epoch 2: train_loss 0.677312676819048, test_loss 0.7207033779763956\n",
      "epoch 3: train_loss 0.6479702967882521, test_loss 0.7563864283847369\n",
      "epoch 4: train_loss 0.6482601230512889, test_loss 0.7302073086461713\n",
      "epoch 5: train_loss 0.6382098374228159, test_loss 0.7043684086491985\n",
      "epoch 6: train_loss 0.6357455623204583, test_loss 0.7071269874199195\n",
      "epoch 7: train_loss 0.6114231245910434, test_loss 0.7711073283775611\n",
      "epoch 8: train_loss 0.6204496950047895, test_loss 0.6886007596270829\n",
      "epoch 9: train_loss 0.6121203696344776, test_loss 0.7804821575841596\n",
      "epoch 10: train_loss 0.6175203530962281, test_loss 0.6901030241069706\n",
      "epoch 11: train_loss 0.6001474616905671, test_loss 0.6849511870041421\n",
      "epoch 12: train_loss 0.5926800183894864, test_loss 0.6612219327056463\n",
      "epoch 13: train_loss 0.5861191100335011, test_loss 0.702456780018345\n",
      "epoch 14: train_loss 0.5956047366067866, test_loss 0.6806621699838594\n",
      "epoch 15: train_loss 0.5952021814255858, test_loss 0.7095658172110808\n",
      "epoch 16: train_loss 0.5936813052973535, test_loss 0.6649479882508379\n",
      "epoch 17: train_loss 0.5730812279227314, test_loss 0.6693947260280908\n",
      "epoch 18: train_loss 0.5875900025151324, test_loss 0.7092325209472586\n",
      "epoch 19: train_loss 0.5823727967269806, test_loss 0.6310516329404945\n"
     ]
    }
   ],
   "source": [
    "root_dir = os.path.join(os.getcwd(), \"dataset\", \"gan_makeup_data_96\")\n",
    "transform = torchvision.transforms.Compose([\n",
    "    torchvision.transforms.RandomResizedCrop([96,96]),\n",
    "    torchvision.transforms.RandomHorizontalFlip(),\n",
    "    torchvision.transforms.RandomVerticalFlip(),\n",
    "        torchvision.transforms.ToTensor(),\n",
    "    torchvision.transforms.Normalize([0.5,0.5,0.5],[0.5,0.5,0.5])\n",
    "])\n",
    "epoch = 20\n",
    "dataset = ImageDataset(root_dir, transform)\n",
    "\n",
    "# Perform train-test split\n",
    "train_dataset, test_dataset = random_split(dataset, [0.9,0.1])\n",
    "train_loader = DataLoader(train_dataset, batch_size=32, shuffle=True)\n",
    "test_loader = DataLoader(test_dataset, batch_size=32, shuffle=True)\n",
    "\n",
    "for i in range(20):\n",
    "    train_loss = train_model(model, loss_function, optimizer, train_loader, i)\n",
    "    test_loss = eval_model(model, loss_function, test_loader, i)\n",
    "    print(f\"epoch {i}: train_loss {train_loss}, test_loss {test_loss}\")\n",
    "writer.flush()\n",
    "writer.close()\n",
    "\n"
   ]
  },
  {
   "cell_type": "code",
   "execution_count": null,
   "metadata": {},
   "outputs": [],
   "source": [
    "# print(len(dataset))\n",
    "\n",
    "# fig, axes = plt.subplots(10, 10, figsize=(10,10))\n",
    "# for i in range(10):\n",
    "#     for j in range(10):\n",
    "#         image = torchvision.transforms.ToPILImage()(dataset[i*10+j][0])\n",
    "#         label = dataset[i*10+j][1]\n",
    "#         axes[i][j].imshow(image)\n",
    "#         axes[i][j].axis(\"off\")\n",
    "#         axes[i][j].set_title(label)\n",
    "# plt.show()\n",
    "\n"
   ]
  },
  {
   "cell_type": "code",
   "execution_count": 21,
   "metadata": {},
   "outputs": [],
   "source": [
    "# print(len(dataset))\n",
    "\n",
    "# fig, axes = plt.subplots(10, 10, figsize=(10,10))\n",
    "# for i in range(10):\n",
    "#     for j in range(10):\n",
    "#         image = torchvision.transforms.ToPILImage()(dataset[i*10+j][0])\n",
    "#         label = dataset[i*10+j][1]\n",
    "#         axes[i][j].imshow(image)\n",
    "#         axes[i][j].axis(\"off\")\n",
    "#         axes[i][j].set_title(label)\n",
    "# plt.show()\n",
    "\n"
   ]
  },
  {
   "cell_type": "code",
   "execution_count": 22,
   "metadata": {},
   "outputs": [
    {
     "name": "stdout",
     "output_type": "stream",
     "text": [
      "2.5877575874328613\n",
      "tensor([[0.1192, 0.8808],\n",
      "        [0.9526, 0.0474]])\n",
      "tensor(2.5878)\n"
     ]
    }
   ],
   "source": [
    "import numpy as np\n",
    "\n",
    "def cross_entropy_loss(logits, targets):\n",
    "    num_samples = targets.shape[0]\n",
    "\n",
    "    softmax_probs = np.exp(logits) / np.sum(np.exp(logits), axis=1, keepdims=True)\n",
    "    a = np.arange(num_samples)\n",
    "    b = softmax_probs[np.arange(num_samples), targets]\n",
    "    log_probs = -np.log(softmax_probs[np.arange(num_samples), targets])\n",
    "\n",
    "    loss = np.sum(log_probs) / num_samples\n",
    "    return loss\n",
    "logits = np.array([[2,4],\n",
    "                  [5,2]], dtype=np.float32)\n",
    "target = np.array([0,1])\n",
    "\n",
    "loss = cross_entropy_loss(logits, target)\n",
    "print(loss)\n",
    "\n",
    "logits = torch.tensor([[2,4],\n",
    "                  [5,2]], dtype=torch.float32)\n",
    "target = torch.tensor([0,1])\n",
    "\n",
    "softmax = torch.nn.Softmax(dim=1)\n",
    "softmax_logits = softmax(logits)\n",
    "print(softmax_logits)\n",
    "loss_function = torch.nn.CrossEntropyLoss()\n",
    "loss = loss_function(logits, target)\n",
    "print(loss)"
   ]
  }
 ],
 "metadata": {
  "kernelspec": {
   "display_name": "python_pytorch",
   "language": "python",
   "name": "python3"
  },
  "language_info": {
   "codemirror_mode": {
    "name": "ipython",
    "version": 3
   },
   "file_extension": ".py",
   "mimetype": "text/x-python",
   "name": "python",
   "nbconvert_exporter": "python",
   "pygments_lexer": "ipython3",
   "version": "3.11.3"
  },
  "orig_nbformat": 4
 },
 "nbformat": 4,
 "nbformat_minor": 2
}
