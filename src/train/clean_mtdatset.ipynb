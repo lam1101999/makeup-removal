{
 "cells": [
  {
   "cell_type": "code",
   "execution_count": 11,
   "metadata": {},
   "outputs": [],
   "source": [
    "import facenet_pytorch\n",
    "import torch\n",
    "import torchvision\n",
    "import os\n",
    "import glob\n",
    "import numpy as np\n",
    "import matplotlib.pyplot as plt\n",
    "from PIL import Image"
   ]
  },
  {
   "cell_type": "code",
   "execution_count": 12,
   "metadata": {},
   "outputs": [],
   "source": [
    "mtcnn = facenet_pytorch.MTCNN()\n",
    "# Get paths of all images\n",
    "saved_dir = os.path.join(os.getcwd(),\"dataset\",\"mtdataset_96\")\n",
    "image_paths = glob.glob(os.path.join(os.getcwd(),\"dataset\",\"mtdataset\",\"*\",\"*.png\"))\n",
    "if not os.path.exists(saved_dir):\n",
    "    os.makedirs(saved_dir)\n",
    "    os.makedirs(os.path.join(saved_dir,\"with\"))\n",
    "    os.makedirs(os.path.join(saved_dir,\"without\"))\n",
    "for image_path in image_paths:\n",
    "    # Open image\n",
    "    image = Image.open(image_path).convert(\"RGB\")\n",
    "    # Detect face from image\n",
    "    boxes, _ = mtcnn.detect(image)\n",
    "    if boxes is None or len(boxes) == 0:\n",
    "        continue\n",
    "    first_box = boxes[0]\n",
    "    first_box = np.clip(first_box, 0, min(image.height, image.width))\n",
    "    left, top, right, bottom = first_box\n",
    "    face_image = image.crop((left, top, right, bottom)).resize((96,96))\n",
    "    # Save detected face\n",
    "    saved_path = os.path.join(saved_dir,image_path.split(os.sep)[-2], image_path.split(os.sep)[-1])\n",
    "    saved_path = saved_path.split(\".\")[0]\n",
    "    saved_path += \".jpg\"\n",
    "    face_image.save(saved_path, \"JPEG\")"
   ]
  }
 ],
 "metadata": {
  "kernelspec": {
   "display_name": "python_pytorch",
   "language": "python",
   "name": "python3"
  },
  "language_info": {
   "codemirror_mode": {
    "name": "ipython",
    "version": 3
   },
   "file_extension": ".py",
   "mimetype": "text/x-python",
   "name": "python",
   "nbconvert_exporter": "python",
   "pygments_lexer": "ipython3",
   "version": "3.11.3"
  },
  "orig_nbformat": 4
 },
 "nbformat": 4,
 "nbformat_minor": 2
}
