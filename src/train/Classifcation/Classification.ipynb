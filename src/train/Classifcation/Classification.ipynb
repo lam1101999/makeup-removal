{
 "cells": [
  {
   "cell_type": "markdown",
   "metadata": {},
   "source": [
    "# Import library\n"
   ]
  },
  {
   "cell_type": "code",
   "execution_count": 1,
   "metadata": {},
   "outputs": [],
   "source": [
    "import torch\n",
    "import math\n",
    "import os\n",
    "import glob\n",
    "import numpy as np\n",
    "import matplotlib.pyplot as plt\n",
    "import random\n",
    "import torchvision\n",
    "\n",
    "from sklearn.model_selection import train_test_split\n",
    "from typing import Any\n",
    "from torch.utils.data import Dataset, DataLoader, random_split\n",
    "from torch.utils.tensorboard import SummaryWriter\n",
    "from PIL import Image\n",
    "from sklearn.metrics import accuracy_score\n",
    "from tqdm import tqdm"
   ]
  },
  {
   "cell_type": "markdown",
   "metadata": {},
   "source": [
    "# Setup device and tensorboard\n"
   ]
  },
  {
   "cell_type": "code",
   "execution_count": 2,
   "metadata": {},
   "outputs": [
    {
     "data": {
      "text/plain": [
       "<torch._C.Generator at 0x200687ce2b0>"
      ]
     },
     "execution_count": 2,
     "metadata": {},
     "output_type": "execute_result"
    }
   ],
   "source": [
    "device = torch.device(\"cuda:0\" if torch.cuda.is_available() else \"cpu\")\n",
    "torch.manual_seed(42)"
   ]
  },
  {
   "cell_type": "markdown",
   "metadata": {},
   "source": [
    "# Customized Dataset\n"
   ]
  },
  {
   "cell_type": "code",
   "execution_count": 3,
   "metadata": {},
   "outputs": [],
   "source": [
    "class ImageDataset(Dataset):\n",
    "    def __init__(self, list_root_dir: list, transform=None) -> None:\n",
    "        super().__init__()\n",
    "        self.list_root_dir = list_root_dir\n",
    "        self.transform = transform\n",
    "\n",
    "        self.image_paths = []\n",
    "        for root_dir in list_root_dir:\n",
    "            self.image_paths.extend(\n",
    "                glob.glob(os.path.join(root_dir, \"with\", \"*.jpg\")))\n",
    "            self.image_paths.extend(\n",
    "                glob.glob(os.path.join(root_dir, \"without\", \"*.jpg\")))\n",
    "        random.shuffle(self.image_paths)\n",
    "\n",
    "    def __len__(self) -> int:\n",
    "        return len(self.image_paths)\n",
    "\n",
    "    def __getitem__(self, index) -> Any:\n",
    "        image_path = self.image_paths[index]\n",
    "\n",
    "        label = 1 if image_path.split(os.sep)[-2] == \"with\" else 0\n",
    "        image = Image.open(image_path).convert(\"RGB\")\n",
    "        if self.transform:\n",
    "            image = self.transform(image)\n",
    "\n",
    "        return [image, label]"
   ]
  },
  {
   "cell_type": "markdown",
   "metadata": {},
   "source": [
    "# Train one epoch\n"
   ]
  },
  {
   "cell_type": "code",
   "execution_count": 4,
   "metadata": {},
   "outputs": [],
   "source": [
    "def train_model(model, loss_function, optimizer, train_loader, writer, epoch=1):\n",
    "    model.train()\n",
    "    running_loss = 0.0\n",
    "    total_samples = 0\n",
    "    y_true = []\n",
    "    y_pred = []\n",
    "    for data in train_loader:\n",
    "        images, labels = data\n",
    "        images = images.to(device)\n",
    "        labels = labels.to(device)\n",
    "        # Clear gradient\n",
    "        optimizer.zero_grad()\n",
    "        # Calculate logits\n",
    "        outputs = model(images)\n",
    "        # Calculate loss\n",
    "        loss = loss_function(outputs, labels)\n",
    "        # Calculate gradient from loss\n",
    "        loss.backward()\n",
    "        # Update weight\n",
    "        optimizer.step()\n",
    "\n",
    "        # Calculate loss\n",
    "        running_loss += loss.item() * images.size(0)\n",
    "        # Calculate total sample in data_loader\n",
    "        total_samples += images.size(0)\n",
    "        # Calculte y_predict for evaluation\n",
    "        predicted = torch.argmax(outputs, dim=1)\n",
    "        y_true.extend(labels.cpu().numpy())\n",
    "        y_pred.extend(predicted.detach().cpu().numpy())\n",
    "    loss = running_loss/total_samples\n",
    "    accuracy = accuracy_score(y_true, y_pred)\n",
    "    writer.add_scalar(\"train/loss\", loss, epoch)\n",
    "    writer.add_scalar(\"train/accuracy\", accuracy, epoch)\n",
    "    return loss, accuracy"
   ]
  },
  {
   "cell_type": "markdown",
   "metadata": {},
   "source": [
    "# Eval model\n"
   ]
  },
  {
   "cell_type": "code",
   "execution_count": 5,
   "metadata": {},
   "outputs": [],
   "source": [
    "def eval_model(model, loss_function, test_dataloader, writer, epoch):\n",
    "    model.eval()\n",
    "    total_samples = 0\n",
    "    total_loss = 0\n",
    "    y_true = []\n",
    "    y_pred = []\n",
    "    with torch.no_grad():\n",
    "        for images, labels in test_dataloader:\n",
    "            images = images.to(device)\n",
    "            labels = labels.to(device)\n",
    "\n",
    "            # Calculate logits\n",
    "            outputs = model(images)\n",
    "\n",
    "            # Calculate loss of outputs and y_true\n",
    "            loss = loss_function(outputs, labels)\n",
    "            total_loss += loss.item() * images.size(0)\n",
    "            # Calculate total sample\n",
    "            total_samples += images.size(0)\n",
    "\n",
    "            # Calculte y_predict for evaluation\n",
    "            predicted = torch.argmax(outputs, dim=1)\n",
    "            y_true.extend(labels.cpu().numpy())\n",
    "            y_pred.extend(predicted.detach().cpu().numpy())\n",
    "    loss = total_loss/total_samples\n",
    "    accuracy = accuracy_score(y_true, y_pred)\n",
    "    writer.add_scalar(\"test/loss\", loss, epoch)\n",
    "    writer.add_scalar(\"test/accuracy\", accuracy, epoch)\n",
    "    return loss, accuracy"
   ]
  },
  {
   "cell_type": "markdown",
   "metadata": {},
   "source": [
    "# Model\n"
   ]
  },
  {
   "cell_type": "code",
   "execution_count": 6,
   "metadata": {},
   "outputs": [
    {
     "name": "stdout",
     "output_type": "stream",
     "text": [
      "cuda:0\n"
     ]
    }
   ],
   "source": [
    "model = torchvision.models.resnet34(num_classes=2)\n",
    "model = model.to(device)\n",
    "print(device)"
   ]
  },
  {
   "cell_type": "markdown",
   "metadata": {},
   "source": [
    "# Optimizer\n"
   ]
  },
  {
   "cell_type": "code",
   "execution_count": 7,
   "metadata": {},
   "outputs": [],
   "source": [
    "optimizer = torch.optim.Adam(model.parameters(), lr=0.001)"
   ]
  },
  {
   "cell_type": "markdown",
   "metadata": {},
   "source": [
    "# Loss function\n"
   ]
  },
  {
   "cell_type": "code",
   "execution_count": 8,
   "metadata": {},
   "outputs": [],
   "source": [
    "loss_function = torch.nn.CrossEntropyLoss()"
   ]
  },
  {
   "cell_type": "markdown",
   "metadata": {},
   "source": [
    "# Train\n"
   ]
  },
  {
   "cell_type": "code",
   "execution_count": 9,
   "metadata": {},
   "outputs": [
    {
     "name": "stdout",
     "output_type": "stream",
     "text": [
      "epoch 0: train_loss 2.777, train_acc 0.4872, test_loss 21.2215432580254, test_acc 0.4753\n",
      "epoch 1: train_loss 2.8642, train_acc 0.4838, test_loss 13.375316521585315, test_acc 0.4945\n",
      "epoch 2: train_loss 2.7841, train_acc 0.4865, test_loss 12.76891793967165, test_acc 0.4753\n",
      "epoch 3: train_loss 2.7789, train_acc 0.482, test_loss 10.485060720600638, test_acc 0.5\n",
      "epoch 4: train_loss 2.7337, train_acc 0.4853, test_loss 11.041288324531298, test_acc 0.4954\n"
     ]
    }
   ],
   "source": [
    "model = torchvision.models.efficientnet_b4(num_classes=2)\n",
    "model = model.to(device)\n",
    "model_name = \"efficientnet_b4\"\n",
    "list_root_dir = []\n",
    "list_root_dir.append(os.path.join(os.path.dirname(os.getcwd()), \"dataset\", \"gan_makeup_data_96\"))\n",
    "list_root_dir.append(os.path.join(os.path.dirname(os.getcwd()), \"dataset\", \"mtdataset_96\"))\n",
    "list_root_dir.append(os.path.join(os.path.dirname(\n",
    "    os.getcwd()), \"dataset\", \"data_anh_Vinh\"))\n",
    "\n",
    "train_transform = torchvision.transforms.Compose([\n",
    "    torchvision.transforms.RandomResizedCrop([96, 96]),\n",
    "    torchvision.transforms.RandomHorizontalFlip(),\n",
    "    torchvision.transforms.RandomVerticalFlip(),\n",
    "    torchvision.transforms.ToTensor(),\n",
    "    torchvision.transforms.Normalize([0.5, 0.5, 0.5], [0.5, 0.5, 0.5])\n",
    "])\n",
    "test_transform = torchvision.transforms.Compose([\n",
    "    torchvision.transforms.Resize([96, 96]),\n",
    "    torchvision.transforms.ToTensor(),\n",
    "    torchvision.transforms.Normalize([0.5, 0.5, 0.5], [0.5, 0.5, 0.5])\n",
    "])\n",
    "writer = SummaryWriter(f\"logs/{model_name}\")\n",
    "epoch = 70\n",
    "\n",
    "# Perform train-test split\n",
    "train_dataset = ImageDataset(list_root_dir, train_transform)\n",
    "test_dataset = ImageDataset(list_root_dir, test_transform)\n",
    "\n",
    "indices = list(range(len(train_dataset)))\n",
    "train_indices, test_indices = train_test_split(indices, test_size=0.1, train_size=0.9)\n",
    "train_dataset = torch.utils.data.Subset(train_dataset, train_indices)\n",
    "test_dataset = torch.utils.data.Subset(test_dataset, test_indices)\n",
    "\n",
    "train_loader = DataLoader(train_dataset, batch_size=64, shuffle=True)\n",
    "test_loader = DataLoader(test_dataset, batch_size=64, shuffle=True)\n",
    "\n",
    "# Keep track best result\n",
    "lowest_train_loss = math.inf\n",
    "highest_train_acc = 0\n",
    "lowest_test_loss = math.inf\n",
    "highest_test_acc = 0\n",
    "for i in range(epoch):\n",
    "    # Train phase\n",
    "    train_loss, train_acc = train_model(model, loss_function, optimizer, train_loader, writer, i)\n",
    "    \n",
    "    # Test phase\n",
    "    test_loss, test_acc = eval_model(model, loss_function, test_loader, writer, i)\n",
    "    \n",
    "    # Command line log\n",
    "    print(f'''epoch {i}: train_loss {round(train_loss,4)}, train_acc {round(train_acc,4)}, test_loss {test_loss}, test_acc {round(test_acc,4)}''')\n",
    "\n",
    "    # Save the best model\n",
    "    if train_loss <= lowest_train_loss and train_acc >= highest_train_acc and test_loss <= lowest_test_loss and test_acc >= highest_test_acc:\n",
    "        lowest_train_loss = train_loss\n",
    "        highest_train_acc = train_acc\n",
    "        lowest_test_loss = test_loss\n",
    "        highest_test_acc = test_acc\n",
    "        saved_folder = os.path.join(os.getcwd(),f\"{model_name}\")\n",
    "        if not os.path.exists(saved_folder):\n",
    "            os.makedirs(saved_folder)\n",
    "        saved_path = os.path.join(saved_folder, f\"{i}.pth\")\n",
    "        torch.save(model.state_dict(), saved_path)\n",
    "\n",
    "\n",
    "writer.flush()\n",
    "writer.close()"
   ]
  },
  {
   "cell_type": "code",
   "execution_count": null,
   "metadata": {},
   "outputs": [
    {
     "ename": "KeyboardInterrupt",
     "evalue": "",
     "output_type": "error",
     "traceback": [
      "\u001b[1;31m---------------------------------------------------------------------------\u001b[0m",
      "\u001b[1;31mKeyboardInterrupt\u001b[0m                         Traceback (most recent call last)",
      "\u001b[1;32me:\\makeup-removal\\src\\train\\Classifcation\\Classification.ipynb Cell 24\u001b[0m line \u001b[0;36m4\n\u001b[0;32m     <a href='vscode-notebook-cell:/e%3A/makeup-removal/src/train/Classifcation/Classification.ipynb#X35sZmlsZQ%3D%3D?line=40'>41</a>\u001b[0m highest_test_acc \u001b[39m=\u001b[39m \u001b[39m0\u001b[39m\n\u001b[0;32m     <a href='vscode-notebook-cell:/e%3A/makeup-removal/src/train/Classifcation/Classification.ipynb#X35sZmlsZQ%3D%3D?line=41'>42</a>\u001b[0m \u001b[39mfor\u001b[39;00m i \u001b[39min\u001b[39;00m \u001b[39mrange\u001b[39m(epoch):\n\u001b[0;32m     <a href='vscode-notebook-cell:/e%3A/makeup-removal/src/train/Classifcation/Classification.ipynb#X35sZmlsZQ%3D%3D?line=42'>43</a>\u001b[0m     \u001b[39m# Train phase\u001b[39;00m\n\u001b[1;32m---> <a href='vscode-notebook-cell:/e%3A/makeup-removal/src/train/Classifcation/Classification.ipynb#X35sZmlsZQ%3D%3D?line=43'>44</a>\u001b[0m     train_loss, train_acc \u001b[39m=\u001b[39m train_model(model, loss_function, optimizer, train_loader, writer, i)\n\u001b[0;32m     <a href='vscode-notebook-cell:/e%3A/makeup-removal/src/train/Classifcation/Classification.ipynb#X35sZmlsZQ%3D%3D?line=45'>46</a>\u001b[0m     \u001b[39m# Test phase\u001b[39;00m\n\u001b[0;32m     <a href='vscode-notebook-cell:/e%3A/makeup-removal/src/train/Classifcation/Classification.ipynb#X35sZmlsZQ%3D%3D?line=46'>47</a>\u001b[0m     test_loss, test_acc \u001b[39m=\u001b[39m eval_model(model, loss_function, test_loader, writer, i)\n",
      "\u001b[1;32me:\\makeup-removal\\src\\train\\Classifcation\\Classification.ipynb Cell 24\u001b[0m line \u001b[0;36m1\n\u001b[0;32m     <a href='vscode-notebook-cell:/e%3A/makeup-removal/src/train/Classifcation/Classification.ipynb#X35sZmlsZQ%3D%3D?line=15'>16</a>\u001b[0m loss \u001b[39m=\u001b[39m loss_function(outputs, labels)\n\u001b[0;32m     <a href='vscode-notebook-cell:/e%3A/makeup-removal/src/train/Classifcation/Classification.ipynb#X35sZmlsZQ%3D%3D?line=16'>17</a>\u001b[0m \u001b[39m# Calculate gradient from loss\u001b[39;00m\n\u001b[1;32m---> <a href='vscode-notebook-cell:/e%3A/makeup-removal/src/train/Classifcation/Classification.ipynb#X35sZmlsZQ%3D%3D?line=17'>18</a>\u001b[0m loss\u001b[39m.\u001b[39;49mbackward()\n\u001b[0;32m     <a href='vscode-notebook-cell:/e%3A/makeup-removal/src/train/Classifcation/Classification.ipynb#X35sZmlsZQ%3D%3D?line=18'>19</a>\u001b[0m \u001b[39m# Update weight\u001b[39;00m\n\u001b[0;32m     <a href='vscode-notebook-cell:/e%3A/makeup-removal/src/train/Classifcation/Classification.ipynb#X35sZmlsZQ%3D%3D?line=19'>20</a>\u001b[0m optimizer\u001b[39m.\u001b[39mstep()\n",
      "File \u001b[1;32mc:\\Users\\nguye\\anaconda3\\envs\\python_pytorch\\Lib\\site-packages\\torch\\_tensor.py:487\u001b[0m, in \u001b[0;36mTensor.backward\u001b[1;34m(self, gradient, retain_graph, create_graph, inputs)\u001b[0m\n\u001b[0;32m    477\u001b[0m \u001b[39mif\u001b[39;00m has_torch_function_unary(\u001b[39mself\u001b[39m):\n\u001b[0;32m    478\u001b[0m     \u001b[39mreturn\u001b[39;00m handle_torch_function(\n\u001b[0;32m    479\u001b[0m         Tensor\u001b[39m.\u001b[39mbackward,\n\u001b[0;32m    480\u001b[0m         (\u001b[39mself\u001b[39m,),\n\u001b[1;32m   (...)\u001b[0m\n\u001b[0;32m    485\u001b[0m         inputs\u001b[39m=\u001b[39minputs,\n\u001b[0;32m    486\u001b[0m     )\n\u001b[1;32m--> 487\u001b[0m torch\u001b[39m.\u001b[39;49mautograd\u001b[39m.\u001b[39;49mbackward(\n\u001b[0;32m    488\u001b[0m     \u001b[39mself\u001b[39;49m, gradient, retain_graph, create_graph, inputs\u001b[39m=\u001b[39;49minputs\n\u001b[0;32m    489\u001b[0m )\n",
      "File \u001b[1;32mc:\\Users\\nguye\\anaconda3\\envs\\python_pytorch\\Lib\\site-packages\\torch\\autograd\\__init__.py:200\u001b[0m, in \u001b[0;36mbackward\u001b[1;34m(tensors, grad_tensors, retain_graph, create_graph, grad_variables, inputs)\u001b[0m\n\u001b[0;32m    195\u001b[0m     retain_graph \u001b[39m=\u001b[39m create_graph\n\u001b[0;32m    197\u001b[0m \u001b[39m# The reason we repeat same the comment below is that\u001b[39;00m\n\u001b[0;32m    198\u001b[0m \u001b[39m# some Python versions print out the first line of a multi-line function\u001b[39;00m\n\u001b[0;32m    199\u001b[0m \u001b[39m# calls in the traceback and some print out the last line\u001b[39;00m\n\u001b[1;32m--> 200\u001b[0m Variable\u001b[39m.\u001b[39;49m_execution_engine\u001b[39m.\u001b[39;49mrun_backward(  \u001b[39m# Calls into the C++ engine to run the backward pass\u001b[39;49;00m\n\u001b[0;32m    201\u001b[0m     tensors, grad_tensors_, retain_graph, create_graph, inputs,\n\u001b[0;32m    202\u001b[0m     allow_unreachable\u001b[39m=\u001b[39;49m\u001b[39mTrue\u001b[39;49;00m, accumulate_grad\u001b[39m=\u001b[39;49m\u001b[39mTrue\u001b[39;49;00m)\n",
      "\u001b[1;31mKeyboardInterrupt\u001b[0m: "
     ]
    }
   ],
   "source": [
    "model = torchvision.models.efficientnet_v2_s(num_classes=2)\n",
    "model = model.to(device)\n",
    "model_name = \"efficientnet_v2_s\"\n",
    "list_root_dir = []\n",
    "list_root_dir.append(os.path.join(os.path.dirname(os.getcwd()), \"dataset\", \"gan_makeup_data_96\"))\n",
    "list_root_dir.append(os.path.join(os.path.dirname(os.getcwd()), \"dataset\", \"mtdataset_96\"))\n",
    "list_root_dir.append(os.path.join(os.path.dirname(\n",
    "    os.getcwd()), \"dataset\", \"data_anh_Vinh\"))\n",
    "\n",
    "train_transform = torchvision.transforms.Compose([\n",
    "    torchvision.transforms.RandomResizedCrop([96, 96]),\n",
    "    torchvision.transforms.RandomHorizontalFlip(),\n",
    "    torchvision.transforms.RandomVerticalFlip(),\n",
    "    torchvision.transforms.ToTensor(),\n",
    "    torchvision.transforms.Normalize([0.5, 0.5, 0.5], [0.5, 0.5, 0.5])\n",
    "])\n",
    "test_transform = torchvision.transforms.Compose([\n",
    "    torchvision.transforms.Resize([96, 96]),\n",
    "    torchvision.transforms.ToTensor(),\n",
    "    torchvision.transforms.Normalize([0.5, 0.5, 0.5], [0.5, 0.5, 0.5])\n",
    "])\n",
    "writer = SummaryWriter(f\"logs/{model_name}\")\n",
    "epoch = 70\n",
    "\n",
    "# Perform train-test split\n",
    "train_dataset = ImageDataset(list_root_dir, train_transform)\n",
    "test_dataset = ImageDataset(list_root_dir, test_transform)\n",
    "\n",
    "indices = list(range(len(train_dataset)))\n",
    "train_indices, test_indices = train_test_split(indices, test_size=0.1, train_size=0.9)\n",
    "train_dataset = torch.utils.data.Subset(train_dataset, train_indices)\n",
    "test_dataset = torch.utils.data.Subset(test_dataset, test_indices)\n",
    "\n",
    "train_loader = DataLoader(train_dataset, batch_size=64, shuffle=True)\n",
    "test_loader = DataLoader(test_dataset, batch_size=64, shuffle=True)\n",
    "\n",
    "# Keep track best result\n",
    "lowest_train_loss = math.inf\n",
    "highest_train_acc = 0\n",
    "lowest_test_loss = math.inf\n",
    "highest_test_acc = 0\n",
    "for i in range(epoch):\n",
    "    # Train phase\n",
    "    train_loss, train_acc = train_model(model, loss_function, optimizer, train_loader, writer, i)\n",
    "    \n",
    "    # Test phase\n",
    "    test_loss, test_acc = eval_model(model, loss_function, test_loader, writer, i)\n",
    "    \n",
    "    # Command line log\n",
    "    print(f'''epoch {i}: train_loss {round(train_loss,4)}, train_acc {round(train_acc,4)}, test_loss {test_loss}, test_acc {round(test_acc,4)}''')\n",
    "\n",
    "    # Save the best model\n",
    "    if train_loss <= lowest_train_loss and train_acc >= highest_train_acc and test_loss <= lowest_test_loss and test_acc >= highest_test_acc:\n",
    "        lowest_train_loss = train_loss\n",
    "        highest_train_acc = train_acc\n",
    "        lowest_test_loss = test_loss\n",
    "        highest_test_acc = test_acc\n",
    "        saved_folder = os.path.join(os.getcwd(),f\"{model_name}\")\n",
    "        if not os.path.exists(saved_folder):\n",
    "            os.makedirs(saved_folder)\n",
    "        saved_path = os.path.join(saved_folder, f\"{i}.pth\")\n",
    "        torch.save(model.state_dict(), saved_path)\n",
    "\n",
    "\n",
    "writer.flush()\n",
    "writer.close()"
   ]
  },
  {
   "cell_type": "code",
   "execution_count": null,
   "metadata": {},
   "outputs": [],
   "source": [
    "model = torchvision.models.efficientnet_v2_m(num_classes=2)\n",
    "model = model.to(device)\n",
    "model_name = \"efficientnet_v2_m\"\n",
    "list_root_dir = []\n",
    "list_root_dir.append(os.path.join(os.path.dirname(os.getcwd()), \"dataset\", \"gan_makeup_data_96\"))\n",
    "list_root_dir.append(os.path.join(os.path.dirname(os.getcwd()), \"dataset\", \"mtdataset_96\"))\n",
    "list_root_dir.append(os.path.join(os.path.dirname(\n",
    "    os.getcwd()), \"dataset\", \"data_anh_Vinh\"))\n",
    "\n",
    "train_transform = torchvision.transforms.Compose([\n",
    "    torchvision.transforms.RandomResizedCrop([96, 96]),\n",
    "    torchvision.transforms.RandomHorizontalFlip(),\n",
    "    torchvision.transforms.RandomVerticalFlip(),\n",
    "    torchvision.transforms.ToTensor(),\n",
    "    torchvision.transforms.Normalize([0.5, 0.5, 0.5], [0.5, 0.5, 0.5])\n",
    "])\n",
    "test_transform = torchvision.transforms.Compose([\n",
    "    torchvision.transforms.Resize([96, 96]),\n",
    "    torchvision.transforms.ToTensor(),\n",
    "    torchvision.transforms.Normalize([0.5, 0.5, 0.5], [0.5, 0.5, 0.5])\n",
    "])\n",
    "writer = SummaryWriter(f\"logs/{model_name}\")\n",
    "epoch = 70\n",
    "\n",
    "# Perform train-test split\n",
    "train_dataset = ImageDataset(list_root_dir, train_transform)\n",
    "test_dataset = ImageDataset(list_root_dir, test_transform)\n",
    "\n",
    "indices = list(range(len(train_dataset)))\n",
    "train_indices, test_indices = train_test_split(indices, test_size=0.1, train_size=0.9)\n",
    "train_dataset = torch.utils.data.Subset(train_dataset, train_indices)\n",
    "test_dataset = torch.utils.data.Subset(test_dataset, test_indices)\n",
    "\n",
    "train_loader = DataLoader(train_dataset, batch_size=64, shuffle=True)\n",
    "test_loader = DataLoader(test_dataset, batch_size=64, shuffle=True)\n",
    "\n",
    "# Keep track best result\n",
    "lowest_train_loss = math.inf\n",
    "highest_train_acc = 0\n",
    "lowest_test_loss = math.inf\n",
    "highest_test_acc = 0\n",
    "for i in range(epoch):\n",
    "    # Train phase\n",
    "    train_loss, train_acc = train_model(model, loss_function, optimizer, train_loader, writer, i)\n",
    "    \n",
    "    # Test phase\n",
    "    test_loss, test_acc = eval_model(model, loss_function, test_loader, writer, i)\n",
    "    \n",
    "    # Command line log\n",
    "    print(f'''epoch {i}: train_loss {round(train_loss,4)}, train_acc {round(train_acc,4)}, test_loss {test_loss}, test_acc {round(test_acc,4)}''')\n",
    "\n",
    "    # Save the best model\n",
    "    if train_loss <= lowest_train_loss and train_acc >= highest_train_acc and test_loss <= lowest_test_loss and test_acc >= highest_test_acc:\n",
    "        lowest_train_loss = train_loss\n",
    "        highest_train_acc = train_acc\n",
    "        lowest_test_loss = test_loss\n",
    "        highest_test_acc = test_acc\n",
    "        saved_folder = os.path.join(os.getcwd(),f\"{model_name}\")\n",
    "        if not os.path.exists(saved_folder):\n",
    "            os.makedirs(saved_folder)\n",
    "        saved_path = os.path.join(saved_folder, f\"{i}.pth\")\n",
    "        torch.save(model.state_dict(), saved_path)\n",
    "\n",
    "\n",
    "writer.flush()\n",
    "writer.close()"
   ]
  },
  {
   "cell_type": "code",
   "execution_count": null,
   "metadata": {},
   "outputs": [],
   "source": [
    "model = torchvision.models.efficientnet_v2_l(num_classes=2)\n",
    "model = model.to(device)\n",
    "model_name = \"efficientnet_v2_l\"\n",
    "list_root_dir = []\n",
    "list_root_dir.append(os.path.join(os.path.dirname(os.getcwd()), \"dataset\", \"gan_makeup_data_96\"))\n",
    "list_root_dir.append(os.path.join(os.path.dirname(os.getcwd()), \"dataset\", \"mtdataset_96\"))\n",
    "list_root_dir.append(os.path.join(os.path.dirname(\n",
    "    os.getcwd()), \"dataset\", \"data_anh_Vinh\"))\n",
    "\n",
    "train_transform = torchvision.transforms.Compose([\n",
    "    torchvision.transforms.RandomResizedCrop([96, 96]),\n",
    "    torchvision.transforms.RandomHorizontalFlip(),\n",
    "    torchvision.transforms.RandomVerticalFlip(),\n",
    "    torchvision.transforms.ToTensor(),\n",
    "    torchvision.transforms.Normalize([0.5, 0.5, 0.5], [0.5, 0.5, 0.5])\n",
    "])\n",
    "test_transform = torchvision.transforms.Compose([\n",
    "    torchvision.transforms.Resize([96, 96]),\n",
    "    torchvision.transforms.ToTensor(),\n",
    "    torchvision.transforms.Normalize([0.5, 0.5, 0.5], [0.5, 0.5, 0.5])\n",
    "])\n",
    "writer = SummaryWriter(f\"logs/{model_name}\")\n",
    "epoch = 70\n",
    "\n",
    "# Perform train-test split\n",
    "train_dataset = ImageDataset(list_root_dir, train_transform)\n",
    "test_dataset = ImageDataset(list_root_dir, test_transform)\n",
    "\n",
    "indices = list(range(len(train_dataset)))\n",
    "train_indices, test_indices = train_test_split(indices, test_size=0.1, train_size=0.9)\n",
    "train_dataset = torch.utils.data.Subset(train_dataset, train_indices)\n",
    "test_dataset = torch.utils.data.Subset(test_dataset, test_indices)\n",
    "\n",
    "train_loader = DataLoader(train_dataset, batch_size=64, shuffle=True)\n",
    "test_loader = DataLoader(test_dataset, batch_size=64, shuffle=True)\n",
    "\n",
    "# Keep track best result\n",
    "lowest_train_loss = math.inf\n",
    "highest_train_acc = 0\n",
    "lowest_test_loss = math.inf\n",
    "highest_test_acc = 0\n",
    "for i in range(epoch):\n",
    "    # Train phase\n",
    "    train_loss, train_acc = train_model(model, loss_function, optimizer, train_loader, writer, i)\n",
    "    \n",
    "    # Test phase\n",
    "    test_loss, test_acc = eval_model(model, loss_function, test_loader, writer, i)\n",
    "    \n",
    "    # Command line log\n",
    "    print(f'''epoch {i}: train_loss {round(train_loss,4)}, train_acc {round(train_acc,4)}, test_loss {test_loss}, test_acc {round(test_acc,4)}''')\n",
    "\n",
    "    # Save the best model\n",
    "    if train_loss <= lowest_train_loss and train_acc >= highest_train_acc and test_loss <= lowest_test_loss and test_acc >= highest_test_acc:\n",
    "        lowest_train_loss = train_loss\n",
    "        highest_train_acc = train_acc\n",
    "        lowest_test_loss = test_loss\n",
    "        highest_test_acc = test_acc\n",
    "        saved_folder = os.path.join(os.getcwd(),f\"{model_name}\")\n",
    "        if not os.path.exists(saved_folder):\n",
    "            os.makedirs(saved_folder)\n",
    "        saved_path = os.path.join(saved_folder, f\"{i}.pth\")\n",
    "        torch.save(model.state_dict(), saved_path)\n",
    "\n",
    "\n",
    "writer.flush()\n",
    "writer.close()"
   ]
  }
 ],
 "metadata": {
  "kernelspec": {
   "display_name": "python_pytorch",
   "language": "python",
   "name": "python3"
  },
  "language_info": {
   "codemirror_mode": {
    "name": "ipython",
    "version": 3
   },
   "file_extension": ".py",
   "mimetype": "text/x-python",
   "name": "python",
   "nbconvert_exporter": "python",
   "pygments_lexer": "ipython3",
   "version": "3.11.3"
  },
  "orig_nbformat": 4
 },
 "nbformat": 4,
 "nbformat_minor": 2
}
